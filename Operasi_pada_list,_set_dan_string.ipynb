{
  "nbformat": 4,
  "nbformat_minor": 0,
  "metadata": {
    "colab": {
      "provenance": []
    },
    "kernelspec": {
      "name": "python3",
      "display_name": "Python 3"
    },
    "language_info": {
      "name": "python"
    }
  },
  "cells": [
    {
      "cell_type": "markdown",
      "source": [
        "# len()\n",
        "\n",
        "fungsi len() bertujuan untuk menghitung panjang atau banyaknya elemen dari list, set, dan string. Khusus pada string, program akan menghitung jumlah karakternya"
      ],
      "metadata": {
        "id": "CGbGtViOFFYm"
      }
    },
    {
      "cell_type": "code",
      "source": [
        "contoh = [1, 3, 3, 5, 5, 5, 7, 7, 9]\n",
        "\n",
        "print(contoh)\n",
        "print(len(contoh))"
      ],
      "metadata": {
        "colab": {
          "base_uri": "https://localhost:8080/"
        },
        "id": "s5BR2JzVFaRe",
        "outputId": "1647cdfd-bf63-404b-f46e-cd66884e763d"
      },
      "execution_count": null,
      "outputs": [
        {
          "output_type": "stream",
          "name": "stdout",
          "text": [
            "[1, 3, 3, 5, 5, 5, 7, 7, 9]\n",
            "9\n"
          ]
        }
      ]
    },
    {
      "cell_type": "markdown",
      "source": [
        "Dalam kode di atas, Anda menampilkan panjang dari anggota yang berada pada list. Anda bisa memperhatikan lebih detail setiap anggota list memang berjumlah 9 atau tidak"
      ],
      "metadata": {
        "id": "OIJy35G7Fmae"
      }
    },
    {
      "cell_type": "code",
      "source": [
        "contoh_list = set([1, 3, 3, 5, 5, 5, 7, 7, 9])\n",
        "\n",
        "print(contoh_list)\n",
        "print(len(contoh_list))"
      ],
      "metadata": {
        "colab": {
          "base_uri": "https://localhost:8080/"
        },
        "id": "lfuE5pmPF6Uk",
        "outputId": "c3dafa4d-b9d9-4bda-9bbf-c30162826252"
      },
      "execution_count": null,
      "outputs": [
        {
          "output_type": "stream",
          "name": "stdout",
          "text": [
            "{1, 3, 5, 7, 9}\n",
            "5\n"
          ]
        }
      ]
    },
    {
      "cell_type": "markdown",
      "source": [
        "Pada kode di atas, Anda mengonversi list menjadi set terlebih dahulu. Hal in menyebabkan anggota set yang tidak memiliki duplikat. setelah itu, anda mencetak jumlah anggota dari set. Hasilya adalah anggota set berjumlah 5."
      ],
      "metadata": {
        "id": "QW-JK0p4GCtF"
      }
    },
    {
      "cell_type": "code",
      "source": [
        "contoh_list = \"Belajar Python\"\n",
        "\n",
        "print(contoh_list)\n",
        "print(len(contoh_list))"
      ],
      "metadata": {
        "colab": {
          "base_uri": "https://localhost:8080/"
        },
        "id": "6ldoM9oDGTPf",
        "outputId": "e6112d92-8c4b-41f2-aee9-c265c6ca00d7"
      },
      "execution_count": null,
      "outputs": [
        {
          "output_type": "stream",
          "name": "stdout",
          "text": [
            "Belajar Python\n",
            "14\n"
          ]
        }
      ]
    },
    {
      "cell_type": "markdown",
      "source": [
        "Pada kode di atas, Anda menghitung jumlah karakter string yang ada pada variabel \"contoh_list\". Perhatikan bahwa karakter space dihitung sebagai karakter string"
      ],
      "metadata": {
        "id": "xJyAa6mjGZ9J"
      }
    },
    {
      "cell_type": "markdown",
      "source": [
        "# min() dan max()\n",
        "Selain menghitung panjang atau banyakanya elemen, Anda juga dapat mengetahui berapa nilai minimun dan maksimum dari suatu list mengunakan fungsi min() dan max()."
      ],
      "metadata": {
        "id": "B4N61OLzGpzC"
      }
    },
    {
      "cell_type": "code",
      "source": [
        "angka = [13, 7, 24, 5, 96, 84, 71, 11, 38]\n",
        "print(min(angka))\n",
        "print(max(angka))"
      ],
      "metadata": {
        "colab": {
          "base_uri": "https://localhost:8080/"
        },
        "id": "ngCh3fK8Gshw",
        "outputId": "1f880e84-276e-43d8-943a-e7c08dce621b"
      },
      "execution_count": null,
      "outputs": [
        {
          "output_type": "stream",
          "name": "stdout",
          "text": [
            "5\n",
            "96\n"
          ]
        }
      ]
    },
    {
      "cell_type": "markdown",
      "source": [
        "# Count\n",
        "Fungsi count() digunakan untuk mengetahui berapa kali suatu objek muncul dalam list."
      ],
      "metadata": {
        "id": "s81AcT9LHAsv"
      }
    },
    {
      "cell_type": "code",
      "source": [
        "genap = [2, 4, 4, 6, 6, 6, 8, 10, 10]\n",
        "print(genap.count(6))"
      ],
      "metadata": {
        "colab": {
          "base_uri": "https://localhost:8080/"
        },
        "id": "_sIKFZILHIWS",
        "outputId": "8fe97ccc-558c-48e9-c751-a2ce9748a97c"
      },
      "execution_count": null,
      "outputs": [
        {
          "output_type": "stream",
          "name": "stdout",
          "text": [
            "3\n"
          ]
        }
      ]
    },
    {
      "cell_type": "markdown",
      "source": [
        "Pada kode di atas, program akan menghitung banyaknya angka 6 dalam list. Namun, pada kode di bawah, program akan menghitung banyaknya substring/huruf \"a\" dalam string."
      ],
      "metadata": {
        "id": "5adAPKgHHOnR"
      }
    },
    {
      "cell_type": "code",
      "source": [
        "string = \"Belajar Python di Dicoding sangat menyenangkan\"\n",
        "substring = \"a\"\n",
        "print(string.count(substring))"
      ],
      "metadata": {
        "colab": {
          "base_uri": "https://localhost:8080/"
        },
        "id": "zt2bvd-GHcO4",
        "outputId": "ecf76676-8c53-404a-c5de-82d4ed28f1e5"
      },
      "execution_count": null,
      "outputs": [
        {
          "output_type": "stream",
          "name": "stdout",
          "text": [
            "6\n"
          ]
        }
      ]
    },
    {
      "cell_type": "markdown",
      "source": [
        "# In dan Not In\n",
        "In dan Not in merupakan operator yang diperuntukan untuk mengetahui nilai atau objek yang ada dalam list. Anda bisa menggunakan operator ini untuk memastikan suatu nilai ada dalam list bahkan dalam string. Operator in dan not in akan mengembalikan nilai boolean true atau false."
      ],
      "metadata": {
        "id": "2YohpXsLHiue"
      }
    },
    {
      "cell_type": "code",
      "source": [
        "kalimat = \"Belajar Python di Dicoding sangat menyenangkan\"\n",
        "print('Dicoding' in kalimat)\n",
        "print('tidak' in kalimat)\n",
        "print('Dicoding' not in kalimat)\n",
        "print('tidak' not in kalimat)"
      ],
      "metadata": {
        "colab": {
          "base_uri": "https://localhost:8080/"
        },
        "id": "DirUQ2GEHyQZ",
        "outputId": "fc3b55a7-fd22-482c-92b4-3279e6f66e05"
      },
      "execution_count": null,
      "outputs": [
        {
          "output_type": "stream",
          "name": "stdout",
          "text": [
            "True\n",
            "False\n",
            "False\n",
            "True\n"
          ]
        }
      ]
    },
    {
      "cell_type": "markdown",
      "source": [
        "# Memberikan nilai untuk multiple variabel\n",
        "Dalam list atau tuple, terkadang anda perlu memberikan nilai pada variabel-variabel tersebut. Secara konvensional, anda bisa melakukan hal tersebut dengan menandai indeks yang diinginkan dan memberikan nilai satu per satu sesuai keinginan."
      ],
      "metadata": {
        "id": "7ilBUhhGIP03"
      }
    },
    {
      "cell_type": "code",
      "source": [
        "data = ['shirt', 'white', 'L']\n",
        "apparel = data[0]\n",
        "color = data[1]\n",
        "size = data[2]\n",
        "print(data)\n",
        "print(size, color, apparel)"
      ],
      "metadata": {
        "colab": {
          "base_uri": "https://localhost:8080/"
        },
        "id": "UeW3Oi9oIbfq",
        "outputId": "f3bfca01-d064-4205-a63d-2cea3063d073"
      },
      "execution_count": null,
      "outputs": [
        {
          "output_type": "stream",
          "name": "stdout",
          "text": [
            "['shirt', 'white', 'L']\n",
            "L white shirt\n"
          ]
        }
      ]
    },
    {
      "cell_type": "markdown",
      "source": [
        "# Sort\n",
        "Fungsi sort() digunakan untuk mengurutkan angka atau urutan huruf"
      ],
      "metadata": {
        "id": "g1xExmmVI4SS"
      }
    },
    {
      "cell_type": "code",
      "source": [
        "kendaraan = ['motor', 'mobil', 'helikopter', 'pesawat']\n",
        "kendaraan.sort()\n",
        "\n",
        "print(kendaraan)"
      ],
      "metadata": {
        "colab": {
          "base_uri": "https://localhost:8080/"
        },
        "id": "PvUIr2jSJIHr",
        "outputId": "60b725f7-617b-48e0-c16d-08cfb0db32a5"
      },
      "execution_count": null,
      "outputs": [
        {
          "output_type": "stream",
          "name": "stdout",
          "text": [
            "['helikopter', 'mobil', 'motor', 'pesawat']\n"
          ]
        }
      ]
    },
    {
      "cell_type": "markdown",
      "source": [
        "Beberapa hal yang perlu diketahui mengenai sort sebagai berikut\n",
        "1. Dapat membalikan urutan dengan cara berikut"
      ],
      "metadata": {
        "id": "09lJODOFJXCT"
      }
    },
    {
      "cell_type": "code",
      "source": [
        "kendaraan = ['motor', 'mobil', 'helikopter', 'pesawat']\n",
        "kendaraan.sort(reverse=True)\n",
        "\n",
        "print(kendaraan)"
      ],
      "metadata": {
        "colab": {
          "base_uri": "https://localhost:8080/"
        },
        "id": "UXiM0IJUJnlZ",
        "outputId": "ab52bee3-bf05-481f-d768-55116512257e"
      },
      "execution_count": null,
      "outputs": [
        {
          "output_type": "stream",
          "name": "stdout",
          "text": [
            "['pesawat', 'motor', 'mobil', 'helikopter']\n"
          ]
        }
      ]
    },
    {
      "cell_type": "markdown",
      "source": [
        "2. Metode sort tidak dapat mengurutkan list yang memiliki angka dan string sekaligus di dalamnya."
      ],
      "metadata": {
        "id": "agOABy7uJvzS"
      }
    },
    {
      "cell_type": "code",
      "source": [
        "urutan = ['Dicoding', 1, 2, 'Indoensia', 3]\n",
        "urutan.sort()\n",
        "\n",
        "print(urutan)"
      ],
      "metadata": {
        "colab": {
          "base_uri": "https://localhost:8080/",
          "height": 193
        },
        "id": "I6x_QNLpKkf2",
        "outputId": "a584fb74-19d0-4f10-91b8-9592a3646721"
      },
      "execution_count": null,
      "outputs": [
        {
          "output_type": "error",
          "ename": "TypeError",
          "evalue": "'<' not supported between instances of 'int' and 'str'",
          "traceback": [
            "\u001b[0;31m---------------------------------------------------------------------------\u001b[0m",
            "\u001b[0;31mTypeError\u001b[0m                                 Traceback (most recent call last)",
            "\u001b[0;32m<ipython-input-20-cf04c4c361cd>\u001b[0m in \u001b[0;36m<cell line: 2>\u001b[0;34m()\u001b[0m\n\u001b[1;32m      1\u001b[0m \u001b[0murutan\u001b[0m \u001b[0;34m=\u001b[0m \u001b[0;34m[\u001b[0m\u001b[0;34m'Dicoding'\u001b[0m\u001b[0;34m,\u001b[0m \u001b[0;36m1\u001b[0m\u001b[0;34m,\u001b[0m \u001b[0;36m2\u001b[0m\u001b[0;34m,\u001b[0m \u001b[0;34m'Indoensia'\u001b[0m\u001b[0;34m,\u001b[0m \u001b[0;36m3\u001b[0m\u001b[0;34m]\u001b[0m\u001b[0;34m\u001b[0m\u001b[0;34m\u001b[0m\u001b[0m\n\u001b[0;32m----> 2\u001b[0;31m \u001b[0murutan\u001b[0m\u001b[0;34m.\u001b[0m\u001b[0msort\u001b[0m\u001b[0;34m(\u001b[0m\u001b[0;34m)\u001b[0m\u001b[0;34m\u001b[0m\u001b[0;34m\u001b[0m\u001b[0m\n\u001b[0m\u001b[1;32m      3\u001b[0m \u001b[0;34m\u001b[0m\u001b[0m\n\u001b[1;32m      4\u001b[0m \u001b[0mprint\u001b[0m\u001b[0;34m(\u001b[0m\u001b[0murutan\u001b[0m\u001b[0;34m)\u001b[0m\u001b[0;34m\u001b[0m\u001b[0;34m\u001b[0m\u001b[0m\n",
            "\u001b[0;31mTypeError\u001b[0m: '<' not supported between instances of 'int' and 'str'"
          ]
        }
      ]
    },
    {
      "cell_type": "markdown",
      "source": [
        "Pada kode di atas menghasilkan error karena Anda mengurutkan dua tipe data, yakni string dan number"
      ],
      "metadata": {
        "id": "H-smGX2rKtMy"
      }
    },
    {
      "cell_type": "markdown",
      "source": [
        "3. Metode sort menggunakan urutan ASCII sehingga nilai huruf kapital (uppercase) akan lebih dahulu dibandingkan huruf kecil (lowercase)"
      ],
      "metadata": {
        "id": "7vWKI9YFLOJT"
      }
    },
    {
      "cell_type": "code",
      "source": [
        "kendaraan = ['motor', 'mobil', 'helikopter', 'Pesawat']\n",
        "kendaraan.sort()\n",
        "print(kendaraan)"
      ],
      "metadata": {
        "colab": {
          "base_uri": "https://localhost:8080/"
        },
        "id": "sixpWhxKLX1M",
        "outputId": "b44b9eb3-dea0-488f-e0ec-3ec3596a63c7"
      },
      "execution_count": null,
      "outputs": [
        {
          "output_type": "stream",
          "name": "stdout",
          "text": [
            "['Pesawat', 'helikopter', 'mobil', 'motor']\n"
          ]
        }
      ]
    },
    {
      "cell_type": "markdown",
      "source": [
        "#Kuis Coding : Operasi List"
      ],
      "metadata": {
        "id": "Ps2nhoaELhbw"
      }
    },
    {
      "cell_type": "code",
      "source": [
        "\"\"\"\n",
        "TODO:\n",
        "Diberikan sebuah variabel berisi nilai list dengan nama \"var_list\".\n",
        "Berdasarkan list tersebut, cari hal-hal berikut ini:\n",
        "- Panjang list tersebut dan simpan dengan nama variabel \"panjang\".\n",
        "- Nilai maksimal list tersebut dan simpan dengan nama variabel \"maksimal\".\n",
        "- Nilai minimal list tersebut dan simpan dengan nama variabel \"minimal\".\n",
        "- Berapa banyak angka 605132 dalam list tersebut dan simpan dalam variabel bernama \"banyak\"\n",
        "\n",
        "Tips:\n",
        "- Anda bisa menggunakan berbagai kode yang ada di materi operasi,\n",
        "  tidak diperbolehkan memasukan nilai secara langsung.\n",
        "\"\"\"\n",
        "\n",
        "# Jangan ubah kode ini\n",
        "var_list = [792564, 465231, 203748, 981037, 857219, 314092, 608345, 123907, 736890, 985026,\n",
        "179430, 450218, 680934, 543187, 978260, 283045, 617902, 405826, 820913, 731095,\n",
        "592403, 109237, 874956, 605132, 214978, 674519, 391047, 825160, 509317, 768490,\n",
        "950283, 307491, 487610, 532198, 605132, 160984, 609873, 245016, 879043, 734126,\n",
        "351809, 670594, 920873, 605132, 596410, 135890, 804512, 683420, 290753, 931560,\n",
        "175430, 950672, 378490, 284105, 746098, 503624, 605132, 167432, 974810, 519463,\n",
        "407835, 740326, 281709, 630921, 953284, 605132, 429731, 183607, 369012, 541380,\n",
        "605132, 217605, 496803, 827309, 153607, 605132, 720459, 381904, 594031, 810235,\n",
        "673925, 492157, 835096, 260481, 956024, 540329, 806295, 320158, 751903, 980465,\n",
        "235780, 857943, 605132, 125094, 620493, 913250\n",
        "]\n",
        "\n",
        "# TODO: Buat kode Anda di bawah ini\n",
        "panjang = len(var_list)\n",
        "maksimal = max(var_list)\n",
        "minimal = min(var_list)\n",
        "banyak = var_list.count(605132)\n",
        "\n",
        "print(panjang, maksimal, minimal, banyak)"
      ],
      "metadata": {
        "colab": {
          "base_uri": "https://localhost:8080/"
        },
        "id": "LxzmhJLYLsWd",
        "outputId": "a5335e25-e864-4060-f2ea-4f0b3e230da9"
      },
      "execution_count": null,
      "outputs": [
        {
          "output_type": "stream",
          "name": "stdout",
          "text": [
            "96 985026 109237 8\n"
          ]
        }
      ]
    },
    {
      "cell_type": "code",
      "source": [
        "data = ['dress', 'red']\n",
        "apparel, color = data\n",
        "print(apparel)\n",
        "print(color)"
      ],
      "metadata": {
        "colab": {
          "base_uri": "https://localhost:8080/"
        },
        "id": "qAKsr70gMOYm",
        "outputId": "41c28d17-d3ce-44b0-a469-dff31a125848"
      },
      "execution_count": null,
      "outputs": [
        {
          "output_type": "stream",
          "name": "stdout",
          "text": [
            "dress\n",
            "red\n"
          ]
        }
      ]
    },
    {
      "cell_type": "code",
      "source": [
        "x = (5, 'program', 1+3j)\n",
        "x[1] = 'Dicoding'\n",
        "print(x)"
      ],
      "metadata": {
        "colab": {
          "base_uri": "https://localhost:8080/",
          "height": 176
        },
        "id": "6LBPfQqxN9xi",
        "outputId": "1b44c359-2fa6-4594-fb5d-2bf2c4d4a766"
      },
      "execution_count": null,
      "outputs": [
        {
          "output_type": "error",
          "ename": "TypeError",
          "evalue": "'tuple' object does not support item assignment",
          "traceback": [
            "\u001b[0;31m---------------------------------------------------------------------------\u001b[0m",
            "\u001b[0;31mTypeError\u001b[0m                                 Traceback (most recent call last)",
            "\u001b[0;32m<ipython-input-26-d314bd3f77c4>\u001b[0m in \u001b[0;36m<cell line: 2>\u001b[0;34m()\u001b[0m\n\u001b[1;32m      1\u001b[0m \u001b[0mx\u001b[0m \u001b[0;34m=\u001b[0m \u001b[0;34m(\u001b[0m\u001b[0;36m5\u001b[0m\u001b[0;34m,\u001b[0m \u001b[0;34m'program'\u001b[0m\u001b[0;34m,\u001b[0m \u001b[0;36m1\u001b[0m\u001b[0;34m+\u001b[0m\u001b[0;36m3j\u001b[0m\u001b[0;34m)\u001b[0m\u001b[0;34m\u001b[0m\u001b[0;34m\u001b[0m\u001b[0m\n\u001b[0;32m----> 2\u001b[0;31m \u001b[0mx\u001b[0m\u001b[0;34m[\u001b[0m\u001b[0;36m1\u001b[0m\u001b[0;34m]\u001b[0m \u001b[0;34m=\u001b[0m \u001b[0;34m'Dicoding'\u001b[0m\u001b[0;34m\u001b[0m\u001b[0;34m\u001b[0m\u001b[0m\n\u001b[0m\u001b[1;32m      3\u001b[0m \u001b[0mprint\u001b[0m\u001b[0;34m(\u001b[0m\u001b[0mx\u001b[0m\u001b[0;34m)\u001b[0m\u001b[0;34m\u001b[0m\u001b[0;34m\u001b[0m\u001b[0m\n",
            "\u001b[0;31mTypeError\u001b[0m: 'tuple' object does not support item assignment"
          ]
        }
      ]
    },
    {
      "cell_type": "code",
      "source": [
        "\"\"\"\n",
        "TODO:\n",
        "Anda diharuskan membuat program diskon untuk sebuah toko belanja dengan ketentuan berikut.\n",
        "- Jika pelanggan berbelanja lebih dari 500.000 ribu, mereka akan mendapat potongan harga 10%.\n",
        "- Seorang pelanggan bernama Dico telah berbelanja senilai 750.000 ribu.\n",
        "- Buat operasi aritmetika untuk menghitung total harga belanja Dico setelah mendapatkan diskon,\n",
        "  dan simpan dalam variabel bernama \"total_harga\".\n",
        "\n",
        "Tips:\n",
        "- Ingat yang dicari adalah total harga belanja setelah diskon, bukan besaran potongan harga.\n",
        "\"\"\"\n",
        "# Jangan ubah kode ini\n",
        "dico = 750000\n",
        "\n",
        "# TODO: Silakan buat kode Anda di bawah ini.\n",
        "if dico > 500000:\n",
        "  disc = dico * 0.10\n",
        "  total_harga = dico - disc\n",
        "\n",
        "  print(total_harga)"
      ],
      "metadata": {
        "colab": {
          "base_uri": "https://localhost:8080/"
        },
        "id": "rHPpW-KpODJW",
        "outputId": "8a00e35b-cbd7-43fc-dbf1-e10ca09f69f8"
      },
      "execution_count": null,
      "outputs": [
        {
          "output_type": "stream",
          "name": "stdout",
          "text": [
            "675000.0\n"
          ]
        }
      ]
    },
    {
      "cell_type": "code",
      "source": [],
      "metadata": {
        "id": "c-DxGI5JW8we"
      },
      "execution_count": null,
      "outputs": []
    }
  ]
}